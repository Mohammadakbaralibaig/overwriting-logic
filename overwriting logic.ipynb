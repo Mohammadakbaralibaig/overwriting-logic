{
 "cells": [
  {
   "cell_type": "code",
   "execution_count": 3,
   "id": "e33990f1",
   "metadata": {},
   "outputs": [
    {
     "name": "stdout",
     "output_type": "stream",
     "text": [
      "Enter the number of elements in the list: 35\n",
      "Enter the number to search for: 6\n",
      "The number is in the list.\n"
     ]
    }
   ],
   "source": [
    "import random\n",
    "\n",
    "# Function to generate a sorted list of random numbers with a difference of 2 between them\n",
    "def generate_list(n):\n",
    "    lst = [random.randint(0, 100) for _ in range(n)]\n",
    "    lst.sort()  # Sort the list to prepare for binary search\n",
    "    return lst\n",
    "\n",
    "# Function to perform binary search on the list\n",
    "def binary_search(lst, x):\n",
    "    start = 0\n",
    "    end = len(lst) - 1\n",
    "    while start <= end:\n",
    "        mid = (start + end) // 2\n",
    "        if lst[mid] == x:\n",
    "            return True\n",
    "        elif lst[mid] < x:\n",
    "            start = mid + 1\n",
    "        else:\n",
    "            end = mid - 1\n",
    "    return False\n",
    "\n",
    "# Get input from the user\n",
    "n = int(input(\"Enter the number of elements in the list: \"))\n",
    "x = int(input(\"Enter the number to search for: \"))\n",
    "\n",
    "# Generate the list and perform binary search\n",
    "lst = generate_list(n)\n",
    "result = binary_search(lst, x)\n",
    "\n",
    "# Print the result\n",
    "if result:\n",
    "    print(\"The number is in the list.\")\n",
    "else:\n",
    "    print(\"The number is not in the list.\")\n"
   ]
  },
  {
   "cell_type": "code",
   "execution_count": null,
   "id": "f45fea70",
   "metadata": {},
   "outputs": [],
   "source": []
  }
 ],
 "metadata": {
  "kernelspec": {
   "display_name": "Python 3 (ipykernel)",
   "language": "python",
   "name": "python3"
  },
  "language_info": {
   "codemirror_mode": {
    "name": "ipython",
    "version": 3
   },
   "file_extension": ".py",
   "mimetype": "text/x-python",
   "name": "python",
   "nbconvert_exporter": "python",
   "pygments_lexer": "ipython3",
   "version": "3.11.5"
  }
 },
 "nbformat": 4,
 "nbformat_minor": 5
}
